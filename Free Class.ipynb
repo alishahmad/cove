{
  "nbformat": 4,
  "nbformat_minor": 0,
  "metadata": {
    "colab": {
      "provenance": [],
      "authorship_tag": "ABX9TyMUQbAA698PkEiyMMbPneFt",
      "include_colab_link": true
    },
    "kernelspec": {
      "name": "python3",
      "display_name": "Python 3"
    },
    "language_info": {
      "name": "python"
    }
  },
  "cells": [
    {
      "cell_type": "markdown",
      "metadata": {
        "id": "view-in-github",
        "colab_type": "text"
      },
      "source": [
        "<a href=\"https://colab.research.google.com/github/alishahmad/cove/blob/master/Free%20Class.ipynb\" target=\"_parent\"><img src=\"https://colab.research.google.com/assets/colab-badge.svg\" alt=\"Open In Colab\"/></a>"
      ]
    },
    {
      "cell_type": "code",
      "execution_count": 3,
      "metadata": {
        "colab": {
          "base_uri": "https://localhost:8080/"
        },
        "id": "L4QBYkBrvYo8",
        "outputId": "cce9f292-774a-4eb6-8275-14e0d88b6d48"
      },
      "outputs": [
        {
          "output_type": "stream",
          "name": "stdout",
          "text": [
            "Hello World\n",
            "5\n",
            "5.5\n",
            "Kuala Lumpur\n"
          ]
        }
      ],
      "source": [
        "print(\"Hello World\")\n",
        "print (5)\n",
        "print (5.5)\n",
        "city= \"Johor\"\n",
        "city=\"Kuala Lumpur\"\n",
        "print(city)"
      ]
    },
    {
      "cell_type": "code",
      "source": [
        "my_fav_number = 369\n",
        "print(my_fav_number)"
      ],
      "metadata": {
        "colab": {
          "base_uri": "https://localhost:8080/"
        },
        "id": "yXxzco84whCV",
        "outputId": "32cdb296-9579-4021-9469-555ad1f66d2a"
      },
      "execution_count": 8,
      "outputs": [
        {
          "output_type": "stream",
          "name": "stdout",
          "text": [
            "369\n"
          ]
        }
      ]
    },
    {
      "cell_type": "code",
      "source": [],
      "metadata": {
        "colab": {
          "base_uri": "https://localhost:8080/"
        },
        "id": "s7B7iTP4wuKk",
        "outputId": "5558ec20-c633-4c94-e19c-e148fdebce3b"
      },
      "execution_count": 6,
      "outputs": [
        {
          "output_type": "stream",
          "name": "stdout",
          "text": [
            "963\n"
          ]
        }
      ]
    },
    {
      "cell_type": "code",
      "source": [
        "thenumber=my_fav_number+2\n",
        "print(thenumber)\n"
      ],
      "metadata": {
        "colab": {
          "base_uri": "https://localhost:8080/"
        },
        "id": "RysJeK-hw2BN",
        "outputId": "268e1f0a-f9d7-4f90-ee5f-21a219ce550d"
      },
      "execution_count": 9,
      "outputs": [
        {
          "output_type": "stream",
          "name": "stdout",
          "text": [
            "371\n"
          ]
        }
      ]
    },
    {
      "cell_type": "code",
      "source": [
        "kampung=\"Muar\"\n",
        "nomborkolej = 3\n",
        "print(\"my kampung is :\",kampung, \"kat situ ada\", nomborkolej, \"kolej\")"
      ],
      "metadata": {
        "colab": {
          "base_uri": "https://localhost:8080/"
        },
        "id": "81RYrWs-xHbs",
        "outputId": "93095943-71e0-4c5c-9297-d3e59d33685c"
      },
      "execution_count": 12,
      "outputs": [
        {
          "output_type": "stream",
          "name": "stdout",
          "text": [
            "my kampung is : Muar kat situ ada 3 kolej\n"
          ]
        }
      ]
    },
    {
      "cell_type": "code",
      "source": [
        "nama= input(\"Masukkan Nama Anda:\")\n",
        "print(nama)"
      ],
      "metadata": {
        "colab": {
          "base_uri": "https://localhost:8080/"
        },
        "id": "k56GbVXYyVPW",
        "outputId": "d75b121b-4013-4533-d39d-1d29ec318eaa"
      },
      "execution_count": 13,
      "outputs": [
        {
          "output_type": "stream",
          "name": "stdout",
          "text": [
            "Masukkan Nama Anda:Alish\n",
            "Alish\n"
          ]
        }
      ]
    },
    {
      "cell_type": "code",
      "source": [
        "number1 = 5\n",
        "number2 = 5.5\n",
        "print(type(number1))\n",
        "\n",
        "a= float (number1)\n",
        "print(type(a))\n",
        "\n",
        "print(type(number2))\n",
        "\n",
        "b= int (number2)\n",
        "print(type(b))\n",
        "\n"
      ],
      "metadata": {
        "colab": {
          "base_uri": "https://localhost:8080/"
        },
        "id": "GaSZOROtz9Nk",
        "outputId": "8ba069fb-35c7-434c-ba45-a5f230056654"
      },
      "execution_count": 14,
      "outputs": [
        {
          "output_type": "stream",
          "name": "stdout",
          "text": [
            "<class 'int'>\n",
            "<class 'float'>\n",
            "<class 'float'>\n",
            "<class 'int'>\n"
          ]
        }
      ]
    },
    {
      "cell_type": "code",
      "source": [
        "#apakah\n",
        "''' multiline\n",
        "coment'''\n",
        "\n",
        "\n"
      ],
      "metadata": {
        "id": "A_FxWfPS0G-H"
      },
      "execution_count": 15,
      "outputs": []
    },
    {
      "cell_type": "code",
      "source": [],
      "metadata": {
        "id": "dA84QScY0Gz7"
      },
      "execution_count": null,
      "outputs": []
    },
    {
      "cell_type": "markdown",
      "source": [],
      "metadata": {
        "id": "soVMfC7g1Noq"
      }
    },
    {
      "cell_type": "code",
      "source": [
        "x=5\n",
        "result = x/10\n",
        "print(result)"
      ],
      "metadata": {
        "colab": {
          "base_uri": "https://localhost:8080/"
        },
        "id": "uNCdQqdS1Yx6",
        "outputId": "576955c3-c4b2-4783-f587-d056cda64dff"
      },
      "execution_count": 19,
      "outputs": [
        {
          "output_type": "stream",
          "name": "stdout",
          "text": [
            "0.5\n"
          ]
        }
      ]
    },
    {
      "cell_type": "code",
      "source": [
        "str1=\"Meow\"\n",
        "str2=\"eeow\"\n",
        "print(str1 + str2)\n"
      ],
      "metadata": {
        "colab": {
          "base_uri": "https://localhost:8080/"
        },
        "id": "1Dy8yzS61KTc",
        "outputId": "39efce00-8c13-4f78-b009-31a45518aa27"
      },
      "execution_count": 20,
      "outputs": [
        {
          "output_type": "stream",
          "name": "stdout",
          "text": [
            "Meoweeow\n"
          ]
        }
      ]
    },
    {
      "cell_type": "code",
      "source": [
        "x=5\n",
        "x+=10\n",
        "print(x)"
      ],
      "metadata": {
        "colab": {
          "base_uri": "https://localhost:8080/"
        },
        "id": "rabdJI8L2Pm8",
        "outputId": "ac24f056-614a-4c8d-f631-9be234d06175"
      },
      "execution_count": 21,
      "outputs": [
        {
          "output_type": "stream",
          "name": "stdout",
          "text": [
            "15\n"
          ]
        }
      ]
    },
    {
      "cell_type": "markdown",
      "source": [],
      "metadata": {
        "id": "fwty1VWYyVFo"
      }
    },
    {
      "cell_type": "code",
      "source": [
        "result1= True\n",
        "result2= False\n",
        "print(result1 and result2)\n",
        "print(result1 or result2)\n"
      ],
      "metadata": {
        "colab": {
          "base_uri": "https://localhost:8080/"
        },
        "id": "m9CuqYIp2ypd",
        "outputId": "8788fb69-2131-4079-aa64-54df0286ca91"
      },
      "execution_count": 24,
      "outputs": [
        {
          "output_type": "stream",
          "name": "stdout",
          "text": [
            "False\n",
            "True\n"
          ]
        }
      ]
    },
    {
      "cell_type": "code",
      "source": [
        "number=10\n",
        "print(number<10)\n",
        "print(number>=10)\n",
        "print(number>10)"
      ],
      "metadata": {
        "colab": {
          "base_uri": "https://localhost:8080/"
        },
        "id": "9ChPrKZ83GPK",
        "outputId": "3d8c2ea5-e56d-419f-c527-bc64f64182f2"
      },
      "execution_count": 26,
      "outputs": [
        {
          "output_type": "stream",
          "name": "stdout",
          "text": [
            "False\n",
            "True\n",
            "False\n"
          ]
        }
      ]
    },
    {
      "cell_type": "code",
      "source": [
        "age = 37\n",
        "gpa = 3.8\n",
        "result = age>- 18 and gpa>3.9\n",
        "print (result)"
      ],
      "metadata": {
        "colab": {
          "base_uri": "https://localhost:8080/"
        },
        "id": "8bSCMC7h2yCt",
        "outputId": "ef8123c4-3655-4cfd-8561-bbff86d8eca7"
      },
      "execution_count": 28,
      "outputs": [
        {
          "output_type": "stream",
          "name": "stdout",
          "text": [
            "False\n"
          ]
        }
      ]
    },
    {
      "cell_type": "code",
      "source": [
        "#score = int(input(\"Enter your Score\":))\n",
        "score=int(input(\"Enter your Score:\"))\n",
        "\n",
        "if score >= 50:\n",
        "  print (\"you passes you exam\")\n",
        "  print(\"Congratulation\")\n",
        "if score < 50:\n",
        "  print(\"Lah tak pass\")\n",
        "  print(\"Cube la lagi\")"
      ],
      "metadata": {
        "colab": {
          "base_uri": "https://localhost:8080/"
        },
        "id": "S1RHRWi45Qfo",
        "outputId": "f19bbb09-7110-454b-8c3b-74b9144e505c"
      },
      "execution_count": 36,
      "outputs": [
        {
          "output_type": "stream",
          "name": "stdout",
          "text": [
            "Enter your Score:20\n",
            "Lah tak pass\n",
            "Cube la lagi\n"
          ]
        }
      ]
    },
    {
      "cell_type": "code",
      "source": [
        "#score = int(input(\"Enter your Score\":))\n",
        "score=int(input(\"Enter your Score:\"))\n",
        "\n",
        "if score >= 50 and score <=100:\n",
        "  print (\"you passes you exam\")\n",
        "  print(\"Congratulation\")\n",
        "elif score<0:\n",
        "  print(\"Invalid Score\")\n",
        "elif score>100:\n",
        "  print(\"Invalid Score\")\n",
        "\n",
        "if score < 50:\n",
        "  print(\"Lah tak pass\")\n",
        "  print(\"Cube la lagi\")"
      ],
      "metadata": {
        "colab": {
          "base_uri": "https://localhost:8080/"
        },
        "id": "yniG11TO65lo",
        "outputId": "409d8ae4-917f-4d91-971e-3a69475751e0"
      },
      "execution_count": 38,
      "outputs": [
        {
          "output_type": "stream",
          "name": "stdout",
          "text": [
            "Enter your Score:100\n",
            "you passes you exam\n",
            "Congratulation\n"
          ]
        }
      ]
    },
    {
      "cell_type": "code",
      "source": [
        "number = int(input (\"Enter The Number:\"))\n",
        "if number > 0:\n",
        "  print (\"The number is positive\")\n",
        "elif number < 0:\n",
        "  print (\"The number is negative\")\n",
        "else:\n",
        "  print (\"The number is zero\")"
      ],
      "metadata": {
        "colab": {
          "base_uri": "https://localhost:8080/"
        },
        "id": "0Hx2rTef70Mc",
        "outputId": "66bd39de-f0ff-4534-b8de-8784e0097a67"
      },
      "execution_count": 42,
      "outputs": [
        {
          "output_type": "stream",
          "name": "stdout",
          "text": [
            "Enter The Number:5\n",
            "The number is positive\n"
          ]
        }
      ]
    },
    {
      "cell_type": "code",
      "source": [
        "text = \"Phyton\"\n",
        "for character in text :\n",
        "  print (character)"
      ],
      "metadata": {
        "colab": {
          "base_uri": "https://localhost:8080/"
        },
        "id": "Ep0THgLy8j8L",
        "outputId": "409a7bf8-a147-4490-bfd0-143da4ae1e18"
      },
      "execution_count": 43,
      "outputs": [
        {
          "output_type": "stream",
          "name": "stdout",
          "text": [
            "P\n",
            "h\n",
            "y\n",
            "t\n",
            "o\n",
            "n\n"
          ]
        }
      ]
    },
    {
      "cell_type": "code",
      "source": [
        "number = int (input (\"Enter an integer:\" ))\n",
        "\n",
        "for count in range (1, 11):\n",
        "  product = number * count\n",
        "  print (number, \"x\", count, \"=\", product)"
      ],
      "metadata": {
        "colab": {
          "base_uri": "https://localhost:8080/"
        },
        "id": "dRipLlSP9WJr",
        "outputId": "6a61651c-3107-48d4-cbf2-6c9636ead47a"
      },
      "execution_count": 50,
      "outputs": [
        {
          "output_type": "stream",
          "name": "stdout",
          "text": [
            "Enter an integer:10\n",
            "10 x 1 = 10\n",
            "10 x 2 = 20\n",
            "10 x 3 = 30\n",
            "10 x 4 = 40\n",
            "10 x 5 = 50\n",
            "10 x 6 = 60\n",
            "10 x 7 = 70\n",
            "10 x 8 = 80\n",
            "10 x 9 = 90\n",
            "10 x 10 = 100\n"
          ]
        }
      ]
    },
    {
      "cell_type": "code",
      "source": [],
      "metadata": {
        "id": "_s1w1iuv-ar4"
      },
      "execution_count": null,
      "outputs": []
    },
    {
      "cell_type": "code",
      "source": [
        "total_sum = sum (range (1,101))\n",
        "print (\"Total Sum is\", total_sum)"
      ],
      "metadata": {
        "colab": {
          "base_uri": "https://localhost:8080/"
        },
        "id": "V5F0S73G-A9n",
        "outputId": "9ae899d6-f353-46b8-df9d-c53cd3cba094"
      },
      "execution_count": 51,
      "outputs": [
        {
          "output_type": "stream",
          "name": "stdout",
          "text": [
            "Total Sum is 5050\n"
          ]
        }
      ]
    },
    {
      "cell_type": "code",
      "source": [
        "total_sum=0\n",
        "for number in range(1,101):\n",
        "  total_sum+=number\n",
        "  print(f\"Total Sum of the {number} number fom 1 to {number}is : {total_sum} \")"
      ],
      "metadata": {
        "colab": {
          "base_uri": "https://localhost:8080/"
        },
        "id": "IB0oc4SP-bPH",
        "outputId": "d109f45c-5040-48fa-e6d2-d83033174035"
      },
      "execution_count": 58,
      "outputs": [
        {
          "output_type": "stream",
          "name": "stdout",
          "text": [
            "Total Sum of the 1 number fom 1 to 1is : 1 \n",
            "Total Sum of the 2 number fom 1 to 2is : 3 \n",
            "Total Sum of the 3 number fom 1 to 3is : 6 \n",
            "Total Sum of the 4 number fom 1 to 4is : 10 \n",
            "Total Sum of the 5 number fom 1 to 5is : 15 \n",
            "Total Sum of the 6 number fom 1 to 6is : 21 \n",
            "Total Sum of the 7 number fom 1 to 7is : 28 \n",
            "Total Sum of the 8 number fom 1 to 8is : 36 \n",
            "Total Sum of the 9 number fom 1 to 9is : 45 \n",
            "Total Sum of the 10 number fom 1 to 10is : 55 \n",
            "Total Sum of the 11 number fom 1 to 11is : 66 \n",
            "Total Sum of the 12 number fom 1 to 12is : 78 \n",
            "Total Sum of the 13 number fom 1 to 13is : 91 \n",
            "Total Sum of the 14 number fom 1 to 14is : 105 \n",
            "Total Sum of the 15 number fom 1 to 15is : 120 \n",
            "Total Sum of the 16 number fom 1 to 16is : 136 \n",
            "Total Sum of the 17 number fom 1 to 17is : 153 \n",
            "Total Sum of the 18 number fom 1 to 18is : 171 \n",
            "Total Sum of the 19 number fom 1 to 19is : 190 \n",
            "Total Sum of the 20 number fom 1 to 20is : 210 \n",
            "Total Sum of the 21 number fom 1 to 21is : 231 \n",
            "Total Sum of the 22 number fom 1 to 22is : 253 \n",
            "Total Sum of the 23 number fom 1 to 23is : 276 \n",
            "Total Sum of the 24 number fom 1 to 24is : 300 \n",
            "Total Sum of the 25 number fom 1 to 25is : 325 \n",
            "Total Sum of the 26 number fom 1 to 26is : 351 \n",
            "Total Sum of the 27 number fom 1 to 27is : 378 \n",
            "Total Sum of the 28 number fom 1 to 28is : 406 \n",
            "Total Sum of the 29 number fom 1 to 29is : 435 \n",
            "Total Sum of the 30 number fom 1 to 30is : 465 \n",
            "Total Sum of the 31 number fom 1 to 31is : 496 \n",
            "Total Sum of the 32 number fom 1 to 32is : 528 \n",
            "Total Sum of the 33 number fom 1 to 33is : 561 \n",
            "Total Sum of the 34 number fom 1 to 34is : 595 \n",
            "Total Sum of the 35 number fom 1 to 35is : 630 \n",
            "Total Sum of the 36 number fom 1 to 36is : 666 \n",
            "Total Sum of the 37 number fom 1 to 37is : 703 \n",
            "Total Sum of the 38 number fom 1 to 38is : 741 \n",
            "Total Sum of the 39 number fom 1 to 39is : 780 \n",
            "Total Sum of the 40 number fom 1 to 40is : 820 \n",
            "Total Sum of the 41 number fom 1 to 41is : 861 \n",
            "Total Sum of the 42 number fom 1 to 42is : 903 \n",
            "Total Sum of the 43 number fom 1 to 43is : 946 \n",
            "Total Sum of the 44 number fom 1 to 44is : 990 \n",
            "Total Sum of the 45 number fom 1 to 45is : 1035 \n",
            "Total Sum of the 46 number fom 1 to 46is : 1081 \n",
            "Total Sum of the 47 number fom 1 to 47is : 1128 \n",
            "Total Sum of the 48 number fom 1 to 48is : 1176 \n",
            "Total Sum of the 49 number fom 1 to 49is : 1225 \n",
            "Total Sum of the 50 number fom 1 to 50is : 1275 \n",
            "Total Sum of the 51 number fom 1 to 51is : 1326 \n",
            "Total Sum of the 52 number fom 1 to 52is : 1378 \n",
            "Total Sum of the 53 number fom 1 to 53is : 1431 \n",
            "Total Sum of the 54 number fom 1 to 54is : 1485 \n",
            "Total Sum of the 55 number fom 1 to 55is : 1540 \n",
            "Total Sum of the 56 number fom 1 to 56is : 1596 \n",
            "Total Sum of the 57 number fom 1 to 57is : 1653 \n",
            "Total Sum of the 58 number fom 1 to 58is : 1711 \n",
            "Total Sum of the 59 number fom 1 to 59is : 1770 \n",
            "Total Sum of the 60 number fom 1 to 60is : 1830 \n",
            "Total Sum of the 61 number fom 1 to 61is : 1891 \n",
            "Total Sum of the 62 number fom 1 to 62is : 1953 \n",
            "Total Sum of the 63 number fom 1 to 63is : 2016 \n",
            "Total Sum of the 64 number fom 1 to 64is : 2080 \n",
            "Total Sum of the 65 number fom 1 to 65is : 2145 \n",
            "Total Sum of the 66 number fom 1 to 66is : 2211 \n",
            "Total Sum of the 67 number fom 1 to 67is : 2278 \n",
            "Total Sum of the 68 number fom 1 to 68is : 2346 \n",
            "Total Sum of the 69 number fom 1 to 69is : 2415 \n",
            "Total Sum of the 70 number fom 1 to 70is : 2485 \n",
            "Total Sum of the 71 number fom 1 to 71is : 2556 \n",
            "Total Sum of the 72 number fom 1 to 72is : 2628 \n",
            "Total Sum of the 73 number fom 1 to 73is : 2701 \n",
            "Total Sum of the 74 number fom 1 to 74is : 2775 \n",
            "Total Sum of the 75 number fom 1 to 75is : 2850 \n",
            "Total Sum of the 76 number fom 1 to 76is : 2926 \n",
            "Total Sum of the 77 number fom 1 to 77is : 3003 \n",
            "Total Sum of the 78 number fom 1 to 78is : 3081 \n",
            "Total Sum of the 79 number fom 1 to 79is : 3160 \n",
            "Total Sum of the 80 number fom 1 to 80is : 3240 \n",
            "Total Sum of the 81 number fom 1 to 81is : 3321 \n",
            "Total Sum of the 82 number fom 1 to 82is : 3403 \n",
            "Total Sum of the 83 number fom 1 to 83is : 3486 \n",
            "Total Sum of the 84 number fom 1 to 84is : 3570 \n",
            "Total Sum of the 85 number fom 1 to 85is : 3655 \n",
            "Total Sum of the 86 number fom 1 to 86is : 3741 \n",
            "Total Sum of the 87 number fom 1 to 87is : 3828 \n",
            "Total Sum of the 88 number fom 1 to 88is : 3916 \n",
            "Total Sum of the 89 number fom 1 to 89is : 4005 \n",
            "Total Sum of the 90 number fom 1 to 90is : 4095 \n",
            "Total Sum of the 91 number fom 1 to 91is : 4186 \n",
            "Total Sum of the 92 number fom 1 to 92is : 4278 \n",
            "Total Sum of the 93 number fom 1 to 93is : 4371 \n",
            "Total Sum of the 94 number fom 1 to 94is : 4465 \n",
            "Total Sum of the 95 number fom 1 to 95is : 4560 \n",
            "Total Sum of the 96 number fom 1 to 96is : 4656 \n",
            "Total Sum of the 97 number fom 1 to 97is : 4753 \n",
            "Total Sum of the 98 number fom 1 to 98is : 4851 \n",
            "Total Sum of the 99 number fom 1 to 99is : 4950 \n",
            "Total Sum of the 100 number fom 1 to 100is : 5050 \n"
          ]
        }
      ]
    },
    {
      "cell_type": "code",
      "source": [
        "count = 0\n",
        "while count <5:\n",
        "  print (\"I am inside loop\")\n",
        "  print (\"Count is\", count)\n",
        "  count+=1\n",
        "print (\"I am outside loop\")"
      ],
      "metadata": {
        "colab": {
          "base_uri": "https://localhost:8080/"
        },
        "id": "hGWlcKJI_0Iq",
        "outputId": "3941f89a-a11a-4f84-e7d1-97a5c89cad4a"
      },
      "execution_count": 62,
      "outputs": [
        {
          "output_type": "stream",
          "name": "stdout",
          "text": [
            "I am inside loop\n",
            "Count is 0\n",
            "I am inside loop\n",
            "Count is 1\n",
            "I am inside loop\n",
            "Count is 2\n",
            "I am inside loop\n",
            "Count is 3\n",
            "I am inside loop\n",
            "Count is 4\n",
            "I am outside loop\n"
          ]
        }
      ]
    },
    {
      "cell_type": "code",
      "source": [],
      "metadata": {
        "id": "RVivwx-uBtsd"
      },
      "execution_count": null,
      "outputs": []
    }
  ]
}